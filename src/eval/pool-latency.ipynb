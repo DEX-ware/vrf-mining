{
 "cells": [
  {
   "cell_type": "markdown",
   "metadata": {},
   "source": [
    "# Pool layency stats\n",
    "\n",
    "## VPS \n",
    "\n",
    "IP: 45.32.31.191\n",
    "\n",
    "Location: Tokyo\n",
    "\n",
    "Provider: Vultr\n",
    "\n",
    "1 vCore CPU, 1G RAM,  25 GB SSD, Ubuntu 18.04 x64"
   ]
  },
  {
   "cell_type": "markdown",
   "metadata": {},
   "source": [
    "## Pools\n",
    "\n",
    "Top pools in US, Aisa and EU. Collected from https://miningpoolstats.stream/"
   ]
  },
  {
   "cell_type": "code",
   "execution_count": 18,
   "metadata": {},
   "outputs": [
    {
     "name": "stdout",
     "output_type": "stream",
     "text": [
      "                latency\n",
      "coin region            \n",
      "btc  asia    341.325500\n",
      "     eu      241.382667\n",
      "     us      178.157000\n",
      "eth  asia    237.990625\n",
      "     eu      258.788250\n",
      "     us       74.090250\n",
      "ltc  asia    296.232500\n",
      "     eu      260.369333\n",
      "     us      178.898500\n",
      "xmr  asia    137.898250\n",
      "     eu      246.690667\n",
      "     us      153.380000\n",
      "zec  asia    429.771231\n",
      "     eu      123.591500\n",
      "     us      124.654500\n"
     ]
    }
   ],
   "source": [
    "import os\n",
    "import pandas as pd\n",
    "\n",
    "dir_path = os.path.abspath('')\n",
    "df = pd.read_csv(dir_path+\"/pool-latency/latency.csv\")\n",
    "df.drop('port', axis=1, inplace=True)\n",
    "grouped = df.groupby(['coin', 'region'])\n",
    "print(grouped.mean())"
   ]
  },
  {
   "cell_type": "markdown",
   "metadata": {},
   "source": [
    "\n"
   ]
  },
  {
   "cell_type": "code",
   "execution_count": null,
   "metadata": {},
   "outputs": [],
   "source": [
    "\n"
   ]
  }
 ],
 "metadata": {
  "kernelspec": {
   "display_name": "Python 2",
   "language": "python",
   "name": "python2"
  },
  "language_info": {
   "codemirror_mode": {
    "name": "ipython",
    "version": 2
   },
   "file_extension": ".py",
   "mimetype": "text/x-python",
   "name": "python",
   "nbconvert_exporter": "python",
   "pygments_lexer": "ipython2",
   "version": "2.7.17"
  }
 },
 "nbformat": 4,
 "nbformat_minor": 2
}
