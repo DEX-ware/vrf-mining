{
 "cells": [
  {
   "cell_type": "markdown",
   "metadata": {},
   "source": [
    "# Pool layency stats\n",
    "\n",
    "## VPS \n",
    "\n",
    "IP: 45.32.31.191\n",
    "\n",
    "Location: Tokyo\n",
    "\n",
    "Provider: Vultr\n",
    "\n",
    "1 vCore CPU, 1G RAM,  25 GB SSD, Ubuntu 18.04 x64"
   ]
  },
  {
   "cell_type": "markdown",
   "metadata": {},
   "source": [
    "### Data preparation"
   ]
  },
  {
   "cell_type": "code",
   "execution_count": 81,
   "metadata": {},
   "outputs": [],
   "source": [
    "import os\n",
    "from statistics import mean\n",
    "\n",
    "coins = {}\n",
    "\n",
    "dir_path = os.path.abspath('')\n",
    "with open(dir_path+\"/pool-latency/latency.csv\") as f: \n",
    "    for row in f:\n",
    "        r = row.split(\",\")\n",
    "        coin = r[0]\n",
    "        latency = float(r[1])\n",
    "        if coin not in coins:\n",
    "            coins[coin] = [latency]\n",
    "        else:\n",
    "            coins[coin].append(latency)"
   ]
  },
  {
   "cell_type": "markdown",
   "metadata": {},
   "source": [
    "\n",
    "## Pools\n",
    "\n",
    "Top pools in US, Aisa and EU. Collected from https://miningpoolstats.stream/\n"
   ]
  },
  {
   "cell_type": "markdown",
   "metadata": {},
   "source": [
    "### BTC\n",
    "\n",
    "+ btc-us.f2pool.com:3333\n",
    "+ btc.ss.poolin.com:443\n",
    "+ us.ss.btc.com:1800\n",
    "+ btc.f2pool.com:1314\n",
    "+ cn.ss.btc.com:1800\n",
    "+ btc-eu.f2pool.com:3333\n",
    "+ eu.ss.btc.com:1800\n",
    "+ eu1.btc.sigmapool.com:3333"
   ]
  },
  {
   "cell_type": "code",
   "execution_count": 82,
   "metadata": {},
   "outputs": [
    {
     "name": "stdout",
     "output_type": "stream",
     "text": [
      "avg:\t234.525500\tms\n",
      "max:\t326.810000\tms\n",
      "min:\t167.341000\tms\n"
     ]
    }
   ],
   "source": [
    "print(\"avg:\\t%f\\tms\" % mean(coins[\"btc\"]))\n",
    "print(\"max:\\t%f\\tms\" % max(coins[\"btc\"]))\n",
    "print(\"min:\\t%f\\tms\" % min(coins[\"btc\"]))"
   ]
  },
  {
   "cell_type": "markdown",
   "metadata": {},
   "source": [
    "### ETH\n",
    "\n",
    "+ eth,us1.ethermine.org:4444\n",
    "+ eth,us2.ethermine.org:4444\n",
    "+ eth,eth-us-east1.nanopool.org:9999\n",
    "+ eth,eth-us-west1.nanopool.org:9999\n",
    "+ eth,eth.ss.poolin.com:443\n",
    "+ eth,asia.sparkpool.com:3333\n",
    "+ eth,eth.f2pool.com:6688\n",
    "+ eth,eth-asia1.nanopool.org:9999\n",
    "+ eth,eth-eu1.nanopool.org:9999\n",
    "+ eth,europe.ethash-hub.miningpoolhub.com:20535\n",
    "+ eth,eu-eth.hiveon.net,4444\n",
    "+ eth,eth-eu.dwarfpool.com:80"
   ]
  },
  {
   "cell_type": "code",
   "execution_count": 83,
   "metadata": {},
   "outputs": [
    {
     "name": "stdout",
     "output_type": "stream",
     "text": [
      "avg:\t202.367052\tms\n",
      "max:\t656.118571\tms\n",
      "min:\t7.981000\tms\n"
     ]
    }
   ],
   "source": [
    "print(\"avg:\\t%f\\tms\" % mean(coins[\"eth\"]))\n",
    "print(\"max:\\t%f\\tms\" % max(coins[\"eth\"]))\n",
    "print(\"min:\\t%f\\tms\" % min(coins[\"eth\"]))"
   ]
  },
  {
   "cell_type": "markdown",
   "metadata": {},
   "source": [
    "### LTC"
   ]
  },
  {
   "cell_type": "code",
   "execution_count": 84,
   "metadata": {},
   "outputs": [
    {
     "name": "stdout",
     "output_type": "stream",
     "text": [
      "avg:\t268.187575\tms\n",
      "max:\t642.183750\tms\n",
      "min:\t108.408000\tms\n"
     ]
    }
   ],
   "source": [
    "print(\"avg:\\t%f\\tms\" % mean(coins[\"ltc\"]))\n",
    "print(\"max:\\t%f\\tms\" % max(coins[\"ltc\"]))\n",
    "print(\"min:\\t%f\\tms\" % min(coins[\"ltc\"]))"
   ]
  },
  {
   "cell_type": "markdown",
   "metadata": {},
   "source": [
    "### DASH"
   ]
  },
  {
   "cell_type": "code",
   "execution_count": 85,
   "metadata": {},
   "outputs": [
    {
     "name": "stdout",
     "output_type": "stream",
     "text": [
      "avg:\t297.719460\tms\n",
      "max:\t644.966250\tms\n",
      "min:\t166.766000\tms\n"
     ]
    }
   ],
   "source": [
    "print(\"avg:\\t%f\\tms\" % mean(coins[\"dash\"]))\n",
    "print(\"max:\\t%f\\tms\" % max(coins[\"dash\"]))\n",
    "print(\"min:\\t%f\\tms\" % min(coins[\"dash\"]))"
   ]
  },
  {
   "cell_type": "markdown",
   "metadata": {},
   "source": [
    "### XMR"
   ]
  },
  {
   "cell_type": "code",
   "execution_count": 86,
   "metadata": {},
   "outputs": [
    {
     "name": "stdout",
     "output_type": "stream",
     "text": [
      "avg:\t173.220000\tms\n",
      "max:\t293.764000\tms\n",
      "min:\t78.550000\tms\n"
     ]
    }
   ],
   "source": [
    "print(\"avg:\\t%f\\tms\" % mean(coins[\"xmr\"]))\n",
    "print(\"max:\\t%f\\tms\" % max(coins[\"xmr\"]))\n",
    "print(\"min:\\t%f\\tms\" % min(coins[\"xmr\"]))"
   ]
  },
  {
   "cell_type": "markdown",
   "metadata": {},
   "source": [
    "### ZEC"
   ]
  },
  {
   "cell_type": "code",
   "execution_count": 87,
   "metadata": {},
   "outputs": [
    {
     "name": "stdout",
     "output_type": "stream",
     "text": [
      "avg:\t249.890500\tms\n",
      "max:\t766.150000\tms\n",
      "min:\t7.347000\tms\n"
     ]
    }
   ],
   "source": [
    "print(\"avg:\\t%f\\tms\" % mean(coins[\"zec\"]))\n",
    "print(\"max:\\t%f\\tms\" % max(coins[\"zec\"]))\n",
    "print(\"min:\\t%f\\tms\" % min(coins[\"zec\"]))"
   ]
  }
 ],
 "metadata": {
  "kernelspec": {
   "display_name": "Python 2",
   "language": "python",
   "name": "python2"
  },
  "language_info": {
   "codemirror_mode": {
    "name": "ipython",
    "version": 2
   },
   "file_extension": ".py",
   "mimetype": "text/x-python",
   "name": "python",
   "nbconvert_exporter": "python",
   "pygments_lexer": "ipython2",
   "version": "2.7.17"
  }
 },
 "nbformat": 4,
 "nbformat_minor": 2
}
