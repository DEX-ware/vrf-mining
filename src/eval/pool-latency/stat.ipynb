{
 "cells": [
  {
   "cell_type": "markdown",
   "metadata": {},
   "source": [
    "# Pool layency stats\n",
    "\n",
    "\n",
    "## VPS \n",
    "\n",
    "- Location: Singapore\n",
    "- Provider: Vultr\n",
    "- 1 vCore CPU, 1G RAM, 25 GB SSD, Ubuntu 18.04 x64"
   ]
  },
  {
   "cell_type": "markdown",
   "metadata": {},
   "source": [
    "## Pools\n",
    "\n",
    "Top pools in US, Aisa and EU. Collected from https://miningpoolstats.stream/"
   ]
  },
  {
   "cell_type": "code",
   "execution_count": 52,
   "metadata": {},
   "outputs": [
    {
     "name": "stdout",
     "output_type": "stream",
     "text": [
      "\\begin{tabular}{lllrrr}\n",
      "\\toprule\n",
      "coin & region &                       host &   port &  latency\\_mean &  latency\\_std \\\\\n",
      "\\midrule\n",
      " btc &     us &          btc-us.f2pool.com &   3333 &       228.845 &    20.548227 \\\\\n",
      " btc &   asia &          btc.ss.poolin.com &    443 &       165.696 &    31.206496 \\\\\n",
      " btc &     eu &          btc-eu.f2pool.com &   3333 &       162.293 &    15.072790 \\\\\n",
      " btc &     eu &              eu.ss.btc.com &   1800 &       158.438 &     4.402037 \\\\\n",
      " btc &     eu &      eu1.btc.sigmapool.com &   3333 &       214.876 &    29.206920 \\\\\n",
      " eth &     us &  eth-us-east1.nanopool.org &   9999 &       226.004 &     1.173354 \\\\\n",
      " eth &     us &  eth-us-west1.nanopool.org &   9999 &       182.209 &     5.008756 \\\\\n",
      " eth &   asia &       eth-jp1.nanopool.org &   9999 &       260.082 &    34.864215 \\\\\n",
      " eth &     eu &       eth-eu1.nanopool.org &   9999 &       284.720 &    37.420361 \\\\\n",
      " eth &     eu &       eth-eu2.nanopool.org &   9999 &       291.281 &     6.972029 \\\\\n",
      " eth &     eu &          eu-eth.hiveon.net &   4444 &       247.869 &    19.166674 \\\\\n",
      " eth &     eu &       eth-eu.dwarfpool.com &     80 &       306.198 &    29.074232 \\\\\n",
      " ltc &     us &        us.litecoinpool.org &   3333 &       231.411 &    18.369690 \\\\\n",
      " ltc &     us &       us2.litecoinpool.org &   3333 &       167.318 &     3.225467 \\\\\n",
      " ltc &     us &          us-ltc.ss.btc.com &   1800 &       225.951 &    11.944215 \\\\\n",
      " ltc &     us &          ltc-us.f2pool.com &   8888 &       230.549 &    25.844133 \\\\\n",
      " xmr &     us &  xmr-us-east1.nanopool.org &  14444 &       226.526 &     2.084073 \\\\\n",
      " xmr &     us &  xmr-us-west1.nanopool.org &  14444 &       187.440 &    15.914913 \\\\\n",
      " xmr &     us &             monerohash.com &   2222 &       224.457 &    24.607601 \\\\\n",
      " xmr &   asia &       xmr-jp1.nanopool.org &  14444 &       235.547 &     9.082764 \\\\\n",
      " xmr &   asia &    gulf.moneroocean.stream &     80 &       228.405 &     8.530898 \\\\\n",
      " xmr &     eu &       xmr-eu1.nanopool.org &  14444 &       241.316 &    24.772531 \\\\\n",
      " xmr &     eu &       xmr-eu2.nanopool.org &  14444 &       238.899 &    24.653803 \\\\\n",
      " xmr &     eu &                 xmrpool.eu &   3333 &       248.898 &     7.124086 \\\\\n",
      " zec &     us &          zec.slushpool.com &   4444 &       222.598 &     7.565555 \\\\\n",
      " zec &     eu &          zec-eu.luxor.tech &   6666 &       295.176 &     4.036088 \\\\\n",
      "\\bottomrule\n",
      "\\end{tabular}\n",
      "\n"
     ]
    }
   ],
   "source": [
    "import pandas as pd\n",
    "\n",
    "df = pd.read_csv(\"./latency.csv\")\n",
    "\n",
    "df_stable = df[df['latency_std'] < 0.2*df['latency_mean']]\n",
    "df_stable = df_stable[df_stable['latency_mean'] > 100]\n",
    "\n",
    "df_stable.sort_values(['coin', 'region'], ascending=[1, 0])\n",
    "\n",
    "print(df_stable.to_latex(index=False))"
   ]
  },
  {
   "cell_type": "markdown",
   "metadata": {},
   "source": [
    "\n"
   ]
  },
  {
   "cell_type": "code",
   "execution_count": 54,
   "metadata": {},
   "outputs": [
    {
     "name": "stdout",
     "output_type": "stream",
     "text": [
      "\\begin{tabular}{lrr}\n",
      "\\toprule\n",
      "{} &  latency\\_mean &  latency\\_std \\\\\n",
      "region &               &              \\\\\n",
      "\\midrule\n",
      "asia   &    222.432500 &    20.921093 \\\\\n",
      "eu     &    244.542182 &    18.354686 \\\\\n",
      "us     &    213.937091 &    12.389635 \\\\\n",
      "\\bottomrule\n",
      "\\end{tabular}\n",
      "\n"
     ]
    }
   ],
   "source": [
    "grouped = df_stable.groupby(['region'])\n",
    "# grouped = df_stable.groupby(['coin', 'region'])\n",
    "df_grouped = grouped.mean()\n",
    "df_grouped = df_grouped.drop(columns='port')\n",
    "\n",
    "print(df_grouped.to_latex())"
   ]
  },
  {
   "cell_type": "code",
   "execution_count": null,
   "metadata": {},
   "outputs": [],
   "source": []
  }
 ],
 "metadata": {
  "kernelspec": {
   "display_name": "Python 3",
   "language": "python",
   "name": "python3"
  },
  "language_info": {
   "codemirror_mode": {
    "name": "ipython",
    "version": 3
   },
   "file_extension": ".py",
   "mimetype": "text/x-python",
   "name": "python",
   "nbconvert_exporter": "python",
   "pygments_lexer": "ipython3",
   "version": "3.7.4"
  }
 },
 "nbformat": 4,
 "nbformat_minor": 2
}
